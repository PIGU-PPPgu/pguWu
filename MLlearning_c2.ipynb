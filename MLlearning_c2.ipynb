{
 "cells": [
  {
   "cell_type": "code",
   "execution_count": 2,
   "metadata": {},
   "outputs": [],
   "source": [
    "import numpy as np"
   ]
  },
  {
   "cell_type": "markdown",
   "metadata": {},
   "source": [
    "### 定义线性回归的模型主体"
   ]
  },
  {
   "cell_type": "code",
   "execution_count": 3,
   "metadata": {},
   "outputs": [],
   "source": [
    "def linear_loss(X, y, w, b):\n",
    "    '''\n",
    "    Input：\n",
    "    X:输入的变量矩阵\n",
    "    y：输出标签向量\n",
    "    w:变量参数权重矩阵\n",
    "    b:偏置\n",
    "    \n",
    "    Output:\n",
    "    y_hat: 线性回归模型预测值\n",
    "    loss：均方损失\n",
    "    dw：权重系数一阶偏导\n",
    "    db：偏置一阶偏导\n",
    "    '''\n",
    "    \n",
    "    # 训练样本量\n",
    "    num_train = X.shape[0]\n",
    "    \n",
    "    # 训练特征数\n",
    "    num_feature = X.shape[1]\n",
    "    \n",
    "    # 线性回归预测值\n",
    "    y_hat = np.dot(X, w) + b\n",
    "    \n",
    "    # 计算预测值与实际标签之间的均方损失\n",
    "    loss = np.sum((y_hat - y)**2) / num_train\n",
    "    \n",
    "    # 基于均方损失对权重系数的一阶梯度\n",
    "    dw = np.dot(X.T, (y_hat - y)) / num_train\n",
    "    \n",
    "    # 基于均方损失对偏置的一阶梯度\n",
    "    db = np.sum((y_hat - y)) / num_train\n",
    "    \n",
    "    return y_hat, loss, dw, db"
   ]
  },
  {
   "cell_type": "code",
   "execution_count": 4,
   "metadata": {},
   "outputs": [],
   "source": [
    "### 初始化w,b参数"
   ]
  },
  {
   "cell_type": "code",
   "execution_count": 5,
   "metadata": {},
   "outputs": [],
   "source": [
    "def initialize_params(dims):\n",
    "    '''\n",
    "    input:\n",
    "    dims: 训练数据的维度\n",
    "    \n",
    "    output：\n",
    "    w:初始化权重系数\n",
    "    b:初始化偏执参数\n",
    "    '''\n",
    "    \n",
    "    w = np.zeros((dims, 1))\n",
    "    b = 0\n",
    "    \n",
    "    return w, b"
   ]
  },
  {
   "cell_type": "code",
   "execution_count": 17,
   "metadata": {},
   "outputs": [],
   "source": [
    "### 定义训练过程\n",
    "def linear_train(X, y, learning_rate = 0.01, epochs = 10000):\n",
    "    '''\n",
    "    input:\n",
    "    X:输入变量矩阵\n",
    "    y: 输出标签向量\n",
    "    learning rate：学习率\n",
    "    epoch：迭代次数\n",
    "    \n",
    "    output：\n",
    "    loss_his: 每次迭代的均方损失\n",
    "    params: 优化后的参数（字典）\n",
    "    grads: 优化后的参数梯度字典\n",
    "    \n",
    "    '''\n",
    "    \n",
    "    # 给一个空列表来储存每次的均方差\n",
    "    loss_his = []\n",
    "    \n",
    "    # 初始化模型参数\n",
    "    w, b = initialize_params(X.shape[1])\n",
    "    \n",
    "    # 迭代训练\n",
    "    for i in range(1, epochs):\n",
    "        # 计算 当前 的迭代预测值、均方差、梯度\n",
    "        y_hat, loss, dw, db = linear_loss(X, y, w, b)\n",
    "        \n",
    "        # 梯度下降\n",
    "        w += -learning_rate * dw\n",
    "        b += -learning_rate * db\n",
    "        \n",
    "        # 记录 当前 的迭代损失\n",
    "        loss_his.append(loss)\n",
    "        \n",
    "        if i % 10000 ==0:\n",
    "            print('epoch %d loss %f' % (i, loss))\n",
    "            \n",
    "        params = {\n",
    "            'w': w,\n",
    "            'b': b\n",
    "        }\n",
    "        \n",
    "        grads = {\n",
    "            'dw': dw,\n",
    "            'db': db\n",
    "        }\n",
    "        \n",
    "    return loss_his, params, grads"
   ]
  },
  {
   "cell_type": "code",
   "execution_count": 18,
   "metadata": {},
   "outputs": [],
   "source": [
    "from sklearn.datasets import load_diabetes\n",
    "\n",
    "# 导入打乱数据的函数\n",
    "from sklearn.utils import shuffle"
   ]
  },
  {
   "cell_type": "code",
   "execution_count": 19,
   "metadata": {},
   "outputs": [
    {
     "name": "stdout",
     "output_type": "stream",
     "text": [
      "X_train shape: (353, 10)\n",
      "X_test shape: (89, 10)\n",
      "y_train shape: (353, 1)\n",
      "y_test shape: (89, 1)\n"
     ]
    }
   ],
   "source": [
    "# 获取diabetes的数据\n",
    "diabetes = load_diabetes()\n",
    "\n",
    "# 数据 和 数据标签\n",
    "data, target = diabetes.data, diabetes.target\n",
    "\n",
    "# 将数据打乱\n",
    "X, y = shuffle(data, target, random_state = 13)\n",
    "\n",
    "# 8:2划分数据集\n",
    "offset = int(X.shape[0]*0.8)\n",
    "\n",
    "#\n",
    "X_train, y_train = X[:offset], y[:offset]\n",
    "\n",
    "#\n",
    "X_test, y_test = X[offset:], y[offset:]\n",
    "\n",
    "# 将训练集改为列向量、\n",
    "y_train = y_train.reshape((-1, 1))\n",
    "y_test = y_test.reshape((-1, 1))\n",
    "\n",
    "# \n",
    "print('X_train shape:', X_train.shape)\n",
    "print('X_test shape:', X_test.shape)\n",
    "print('y_train shape:', y_train.shape)\n",
    "print('y_test shape:', y_test.shape)\n"
   ]
  },
  {
   "cell_type": "code",
   "execution_count": 20,
   "metadata": {},
   "outputs": [
    {
     "name": "stdout",
     "output_type": "stream",
     "text": [
      "epoch 10000 loss 3679.868273\n",
      "epoch 20000 loss 3219.164522\n",
      "epoch 30000 loss 3040.820279\n",
      "epoch 40000 loss 2944.936608\n",
      "epoch 50000 loss 2885.991571\n",
      "epoch 60000 loss 2848.051813\n",
      "epoch 70000 loss 2823.157085\n",
      "epoch 80000 loss 2806.627821\n",
      "epoch 90000 loss 2795.546917\n",
      "epoch 100000 loss 2788.051561\n",
      "epoch 110000 loss 2782.935842\n",
      "epoch 120000 loss 2779.411265\n",
      "epoch 130000 loss 2776.957989\n",
      "epoch 140000 loss 2775.230803\n",
      "epoch 150000 loss 2773.998942\n",
      "epoch 160000 loss 2773.107192\n",
      "epoch 170000 loss 2772.450534\n",
      "epoch 180000 loss 2771.957489\n",
      "epoch 190000 loss 2771.579121\n",
      "{'w': array([[  10.56390075],\n",
      "       [-236.41625133],\n",
      "       [ 481.50915635],\n",
      "       [ 294.47043558],\n",
      "       [ -60.99362023],\n",
      "       [-110.54181897],\n",
      "       [-206.44046579],\n",
      "       [ 163.23511378],\n",
      "       [ 409.28971463],\n",
      "       [  65.73254667]]), 'b': 150.8144748910088}\n"
     ]
    }
   ],
   "source": [
    "# 模型训练\n",
    "loss_his, params, grads = linear_train(X_train, y_train, 0.01, 200000)\n",
    "print(params)"
   ]
  },
  {
   "cell_type": "code",
   "execution_count": 21,
   "metadata": {},
   "outputs": [],
   "source": [
    "# 预测函数， 计算拟合值y\n",
    "def predict(X, params):\n",
    "    w = params['w']\n",
    "    b = params['b']\n",
    "    \n",
    "    y_pred = np.dot(X, w) + b\n",
    "    \n",
    "    return y_pred"
   ]
  },
  {
   "cell_type": "code",
   "execution_count": 22,
   "metadata": {},
   "outputs": [],
   "source": [
    "# 回归模型R方\n",
    "def r2_score(y_test, y_pred):\n",
    "    y_avg = np.mean(y_test)\n",
    "    # 总的离差平方和\n",
    "    ss_tot = np.sum((y_test - y_avg)**2)\n",
    "    # 总的残差平方和\n",
    "    ss_res = np.sum((y_test - y_pred)**2)\n",
    "    # result\n",
    "    r2 = 1 - (ss_res/ss_tot)\n",
    "    \n",
    "    return r2"
   ]
  },
  {
   "cell_type": "code",
   "execution_count": 25,
   "metadata": {},
   "outputs": [
    {
     "name": "stdout",
     "output_type": "stream",
     "text": [
      "0.5334188457463577\n"
     ]
    }
   ],
   "source": [
    "y_pred = predict(X_test, params)\n",
    "\n",
    "print(r2_score(y_test, y_pred))"
   ]
  },
  {
   "cell_type": "code",
   "execution_count": 31,
   "metadata": {},
   "outputs": [
    {
     "name": "stdout",
     "output_type": "stream",
     "text": [
      "Mean squared Error: 3371.88\n",
      "R square score: 0.539208\n"
     ]
    }
   ],
   "source": [
    "# 基于sklearn下的lg实现\n",
    "from sklearn import linear_model\n",
    "from sklearn.metrics import mean_squared_error, r2_score\n",
    "\n",
    "regr = linear_model.LinearRegression()\n",
    "regr.fit(X_train, y_train)\n",
    "\n",
    "y_pred = regr.predict(X_test)\n",
    "\n",
    "print(\"Mean squared Error: %.2f\"% mean_squared_error(y_test, y_pred))\n",
    "print(\"R square score: %.6f\" % r2_score(y_test, y_pred))"
   ]
  },
  {
   "cell_type": "code",
   "execution_count": null,
   "metadata": {},
   "outputs": [],
   "source": []
  }
 ],
 "metadata": {
  "kernelspec": {
   "display_name": "Python 3",
   "language": "python",
   "name": "python3"
  },
  "language_info": {
   "codemirror_mode": {
    "name": "ipython",
    "version": 3
   },
   "file_extension": ".py",
   "mimetype": "text/x-python",
   "name": "python",
   "nbconvert_exporter": "python",
   "pygments_lexer": "ipython3",
   "version": "3.8.5"
  }
 },
 "nbformat": 4,
 "nbformat_minor": 4
}
